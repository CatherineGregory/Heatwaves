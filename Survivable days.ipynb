{
 "cells": [
  {
   "cell_type": "code",
   "execution_count": null,
   "id": "5cda8815-ec22-4cd9-88ab-aa38f5af5330",
   "metadata": {},
   "outputs": [],
   "source": [
    "import numpy as np \n",
    "import pandas as pd\n",
    "import dask\n",
    "import xarray as xr\n",
    "import os"
   ]
  },
  {
   "cell_type": "code",
   "execution_count": null,
   "id": "8fec0629-c606-4381-aa0b-2e7b75375cb3",
   "metadata": {},
   "outputs": [],
   "source": [
    "##load the dataset for the selected group and condition based on model in Vanos et al.\n",
    "survivable = xr.open_dataset('/home/581/cg8052/Survivable_Day-Outdoors_6H-Young_adult.nc')\n",
    "Survive = survivable['__xarray_dataarray_variable__']\n",
    "Survive.name = 'survive'"
   ]
  },
  {
   "cell_type": "code",
   "execution_count": null,
   "id": "a5f06edd-e8c2-4cc3-a8b9-c78f5fec27d3",
   "metadata": {},
   "outputs": [],
   "source": [
    "##find the land-sea mask\n",
    "ds2=xr.open_dataset('land_sea_mask_file.nc')\n",
    "sftlf=ds2['sftlf']"
   ]
  },
  {
   "cell_type": "code",
   "execution_count": null,
   "id": "a51224e6-4655-4831-91e9-1f3f43ef08da",
   "metadata": {},
   "outputs": [],
   "source": [
    "##Temo dataset\n",
    "ds_t =xr.open_dataset(os.path.join(directory1, files1[i]))\n",
    "##humidity dataset\n",
    "ds_hurs =xr.open_dataset(os.path.join(directory2, files2[i]))\n",
    "\n",
    "tas = (ds_t['tas']-273.15)\n",
    "hurs = ds_hurs['hurs']\n",
    "##mask to make ocean nan\n",
    "masked_tas = tas * sftlf\n",
    "masked_hurs = hurs * sftlf\n",
    "tas = tas.where(sftlf > 0)\n",
    "hurs = hurs.where(sftlf > 0)\n",
    "ds = xr.Dataset({'tas': tas, 'hurs': hurs})\n",
    "#Sel temp and humidity data from survive dataset where survive=1 and non survive=0\n",
    "result = Survive.sel(humidity=ds['hurs'], temperature=ds['tas'], method='nearest')"
   ]
  },
  {
   "cell_type": "code",
   "execution_count": null,
   "id": "927f76b4-e4e7-4440-903c-c752b84729a5",
   "metadata": {},
   "outputs": [],
   "source": []
  },
  {
   "cell_type": "code",
   "execution_count": null,
   "id": "5a535dcd-a51b-46bf-a0a1-b2e972663b68",
   "metadata": {},
   "outputs": [],
   "source": []
  },
  {
   "cell_type": "code",
   "execution_count": null,
   "id": "d33e7d73-b9f5-4025-b9ef-986fabade201",
   "metadata": {},
   "outputs": [],
   "source": []
  },
  {
   "cell_type": "code",
   "execution_count": null,
   "id": "0e1bf33c-50af-4da2-ac1b-a432d7dc306e",
   "metadata": {},
   "outputs": [],
   "source": []
  }
 ],
 "metadata": {
  "kernelspec": {
   "display_name": "Python 3 (ipykernel)",
   "language": "python",
   "name": "python3"
  },
  "language_info": {
   "codemirror_mode": {
    "name": "ipython",
    "version": 3
   },
   "file_extension": ".py",
   "mimetype": "text/x-python",
   "name": "python",
   "nbconvert_exporter": "python",
   "pygments_lexer": "ipython3",
   "version": "3.12.3"
  }
 },
 "nbformat": 4,
 "nbformat_minor": 5
}
