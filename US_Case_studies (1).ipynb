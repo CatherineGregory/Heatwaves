{
 "cells": [
  {
   "cell_type": "code",
   "execution_count": null,
   "id": "ce776020-fed1-4070-b521-964113f28f5a",
   "metadata": {},
   "outputs": [],
   "source": [
    "import xarray as xr\n",
    "import numpy as np\n",
    "from scipy.special import lambertw\n",
    "\n",
    "import cartopy.crs as ccrs\n",
    "import cartopy.feature as cfeature\n",
    "import matplotlib.pyplot as plt\n",
    "import matplotlib.colors as mcolors\n",
    "from numba import vectorize\n",
    "import pandas as pd"
   ]
  },
  {
   "cell_type": "code",
   "execution_count": null,
   "id": "7947075e-6102-4235-9007-49783f0a73b5",
   "metadata": {},
   "outputs": [],
   "source": [
    "import warnings\n",
    "warnings.filterwarnings('ignore')"
   ]
  },
  {
   "cell_type": "code",
   "execution_count": null,
   "id": "f5d518a6-0d08-4baa-9fbd-da270960e766",
   "metadata": {},
   "outputs": [],
   "source": [
    "WBT_matrix = pd.read_csv('/home/581/cg8052/rhversion_WBT_matrix.csv', header=0, index_col=0)"
   ]
  },
  {
   "cell_type": "code",
   "execution_count": null,
   "id": "9a94a585-7e26-43d1-ba0e-aef9de1d49aa",
   "metadata": {},
   "outputs": [],
   "source": [
    "\n",
    "temperature = np.arange(25,60,0.1)\n",
    "humidity =  np.arange(0.5, 100.5, 0.5)\n",
    "xx_temp, yy_humidity = np.meshgrid(temperature, humidity)\n",
    "xx = xx_temp\n",
    "yy = yy_humidity"
   ]
  },
  {
   "cell_type": "code",
   "execution_count": null,
   "id": "77575c62-e10e-40ba-9179-14cdc24ff406",
   "metadata": {},
   "outputs": [],
   "source": [
    "#Previously calculated survival limits\n",
    "survivable = xr.open_dataset('/home/581/cg8052/Survivable_Day-Outdoors_6H-65_over.nc')\n",
    "Survive1 = survivable['__xarray_dataarray_variable__']\n",
    "\n",
    "survivable2 = xr.open_dataset('/home/581/cg8052/Survivable_Day-Outdoors_6H-Young_adult.nc')\n",
    "Survive2 = survivable2['__xarray_dataarray_variable__']\n",
    "\n",
    "survivable3 = xr.open_dataset('/home/581/cg8052/Survivable_Night-Indoors_6H-65_over.nc')\n",
    "Survive3 = survivable3['__xarray_dataarray_variable__']\n",
    "\n",
    "survivable4 = xr.open_dataset('/home/581/cg8052/Survivable_Night-Indoors_6H-Young_adult.nc')\n",
    "Survive4 = survivable4['__xarray_dataarray_variable__']"
   ]
  },
  {
   "cell_type": "code",
   "execution_count": null,
   "id": "4d7b61f1-ab53-49c7-807c-e08dad652277",
   "metadata": {},
   "outputs": [],
   "source": [
    "#read in data from desired city\n",
    "df2 = pd.read_csv(r\"D:\\ERA5 Data\\Seville_2003.csv\")\n",
    "df = pd.DataFrame(df2)\n",
    "print(df.dtypes)\n",
    "df = df[12:-60]"
   ]
  },
  {
   "cell_type": "code",
   "execution_count": null,
   "id": "f4882f8b-8c2b-4c4d-b19c-1b7c5b0e1755",
   "metadata": {},
   "outputs": [],
   "source": [
    "##Make lineplot of time series, changing colour for survivable limit.\n",
    "\n",
    "fig, ax = plt.subplots(figsize=(10, 7), dpi=500)\n",
    "\n",
    "# Loop through the data to plot the segments with the correct color\n",
    "for i in range(len(df) - 3):\n",
    "    x_values = df['time'].iloc[i:i+2]\n",
    "    y_values = df['Temp'].iloc[i:i+2]\n",
    "    RH_value = df['RH'].iloc[i]\n",
    "    \n",
    "    if RH_value > df['Indoors_YA'].iloc[i]:\n",
    "        color = 'magenta'\n",
    "    elif RH_value > df['Outdoors_YA'].iloc[i]:\n",
    "        color = 'crimson'\n",
    "    elif RH_value > df['Indoors_65'].iloc[i]:\n",
    "        color = 'orange'\n",
    "    elif RH_value > df['Outdoors_65'].iloc[i]:\n",
    "        color = 'gold'\n",
    "    else:\n",
    "        color = 'cornflowerblue'\n",
    "    \n",
    "    ax.plot(x_values, y_values, color=color, linewidth=4)\n",
    "\n",
    "# Set labels and title\n",
    "ax.set_xlabel('Time', fontsize=25)\n",
    "ax.set_ylabel('Temperature ($^\\circ$C)', fontsize=25)\n",
    "#ax.set_title('Temperature Cloncurry, QLD January 2019', fontsize=30)\n",
    "\n",
    "# Adjust x-ticks: angle them and show every third label\n",
    "ax.set_xticks(df['time'][::8])\n",
    "df['time'] = pd.to_datetime(df['time'])\n",
    "ax.set_xticklabels(df['time'][::8].dt.strftime('%d-%b'), rotation=45, ha='right', fontsize=20)\n",
    "\n",
    "ax.tick_params(axis='y', labelsize=18)\n",
    "plt.ylim(28,44)\n",
    "\n",
    "plt.tight_layout()\n",
    "\n",
    "# Show the plot\n",
    "plt.savefig(r\"C:\\Users\\cathe\\OneDrive\\Pictures\\Unsurvivable\\Seville_timeseries.jpg\", bbox_inches='tight')\n",
    "plt.show()"
   ]
  },
  {
   "cell_type": "code",
   "execution_count": null,
   "id": "ed32d12e-da17-4b51-b5e1-a9d67f73932f",
   "metadata": {},
   "outputs": [],
   "source": [
    "hurs2 = df['RH']\n",
    "tas2 = df['Temp']"
   ]
  },
  {
   "cell_type": "code",
   "execution_count": null,
   "id": "185b3472-7bec-48af-bbad-48e7c70ccd34",
   "metadata": {},
   "outputs": [],
   "source": [
    "hurs = hurs2.values.flatten().tolist()\n",
    "tas = tas2.values.flatten().tolist()"
   ]
  },
  {
   "cell_type": "code",
   "execution_count": null,
   "id": "b0051dcf-bd14-4a46-8386-a2a5f70083a8",
   "metadata": {},
   "outputs": [],
   "source": [
    "df =pd.DataFrame({'hurs':hurs, 'tas':tas})\n"
   ]
  },
  {
   "cell_type": "code",
   "execution_count": null,
   "id": "c068a253-d56b-4d67-9467-eb76fadecabf",
   "metadata": {},
   "outputs": [],
   "source": [
    "##Make scatterplots of temp/hum values\n",
    "fig, ax = plt.subplots(figsize=(20, 12))  # Create a single subplot\n",
    "\n",
    "# Plot the contour plots on the current axis\n",
    "Survive1.plot.contour(ax=ax, levels=[0.9, 1.1], colors=['gold', 'white'], label='65+ inside')\n",
    "Survive2.plot.contour(ax=ax, levels=[0.9, 1.1], colors=['orange', 'white'], label='YA inside')\n",
    "Survive3.plot.contour(ax=ax, levels=[0.9, 1.1], colors=['crimson', 'white'], label='65+ outside')#, linestyles=['dashed', 'dashed'])\n",
    "Survive4.plot.contour(ax=ax, levels=[0.9, 1.1], colors=['magenta', 'white'], label='YA outside')#, linestyles=['dashed', 'dashed'])\n",
    "\n",
    "# Add the additional contour plot with custom formatting\n",
    "cp = ax.contour(xx, yy, WBT_matrix, colors='Dimgrey', levels=[35], linewidths=(1,))\n",
    "ax.clabel(cp, fmt='T$_w$ %2.1d°C', colors='Dimgrey', manual=[(40, 70)], fontsize=14)\n",
    "\n",
    "# Plot the scatter plot on the current axis\n",
    "plt.scatter(tas, hurs,color='k', s=100)\n",
    "\n",
    "plt.xticks(fontsize=30)  # Adjust the fontsize as needed\n",
    "plt.yticks(fontsize=30)\n",
    "\n",
    "# Set title and labels\n",
    "ax.set_xlabel('Temperature ($^\\circ$C)', fontsize=36)\n",
    "ax.set_ylabel('Humidity (%)', fontsize=36)\n",
    "ax.set_title('Temp & RH combinations Cloncurry, QLD Jan 2019', fontsize=40)\n",
    "\n",
    "plt.tight_layout()\n",
    "plt.show()"
   ]
  },
  {
   "cell_type": "code",
   "execution_count": null,
   "id": "c4ecbd79-4478-4a48-b47b-5cf13f255604",
   "metadata": {},
   "outputs": [],
   "source": []
  }
 ],
 "metadata": {
  "kernelspec": {
   "display_name": "Python 3 (ipykernel)",
   "language": "python",
   "name": "python3"
  },
  "language_info": {
   "codemirror_mode": {
    "name": "ipython",
    "version": 3
   },
   "file_extension": ".py",
   "mimetype": "text/x-python",
   "name": "python",
   "nbconvert_exporter": "python",
   "pygments_lexer": "ipython3",
   "version": "3.12.3"
  }
 },
 "nbformat": 4,
 "nbformat_minor": 5
}
