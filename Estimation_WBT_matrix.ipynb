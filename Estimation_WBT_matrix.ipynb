{
 "cells": [
  {
   "cell_type": "markdown",
   "metadata": {},
   "source": [
    "-*- coding: utf-8 -*-\n",
    "\n",
    "Created on Tue Feb 14 14:19:29 2023\n",
    "\n",
    "@author: Gisel Guzman-Echavarria\n",
    "\n",
    "<font color=#08b5ff>Haley's notes added in blue or preceded by `#----- HS:`. Changes made throughout to improve readability (e.g. spacing, comments, fixing typos).</font>\n",
    "\n",
    "Estimation of the WBT matriz given a range of temperature and humidity (in RH and q)\n",
    "\n",
    "<font color=#08b5ff>It seems there's a third option -- this notebook computes a matrix of WBTs for various combinations of temperature and humidity measured as relative humidity, specific humidity, and water vapor pressure. The process is pretty much identical for all three methods. We're just using built-in MetPy functions.</font>"
   ]
  },
  {
   "cell_type": "code",
   "execution_count": 1,
   "metadata": {},
   "outputs": [],
   "source": [
    "import numpy as np\n",
    "import pandas as pd\n",
    "from metpy.units import units\n",
    "import metpy.calc as mpcalc\n",
    "import xarray as xr\n",
    "import dask "
   ]
  },
  {
   "cell_type": "code",
   "execution_count": 2,
   "metadata": {},
   "outputs": [],
   "source": [
    "# workdir = 'D:/Dropbox (ASU)/Gisel PhD/Survivability Paper Development/Model/'\n",
    "# workdir = 'C:/Users/gguzma20/Dropbox (ASU)/Gisel PhD/Survivability Paper Development/Model/'\n",
    "\n",
    "#----- HS: added new directory, mine own\n",
    "workdir = 'C:/Users/Haley/OneDrive/Graduate/Research/epi_physo/PyHHB/PyHHB/'"
   ]
  },
  {
   "cell_type": "markdown",
   "metadata": {},
   "source": [
    "### WBT matriz with Specific humidity in the Y-axis"
   ]
  },
  {
   "cell_type": "code",
   "execution_count": 2,
   "metadata": {},
   "outputs": [],
   "source": [
    "#----- HS: create a range of temperatures (C) to use in the matrix\n",
    "temperature = np.arange(25, 60, 0.1)\n",
    "\n",
    "#----- HS: create a range of specific humidities to use in the matrix\n",
    "q =  np.arange(0, 40.2, 0.2) #g/kg"
   ]
  },
  {
   "cell_type": "code",
   "execution_count": 6,
   "metadata": {},
   "outputs": [],
   "source": [
    "ds_t= xr.open_dataset(r\"C:\\Users\\cathe\\Downloads\\tas_full_FGOALS-g3_ssp370_6hr.nc\")\n",
    "temperature = ds_t['tas']"
   ]
  },
  {
   "cell_type": "code",
   "execution_count": 3,
   "metadata": {},
   "outputs": [],
   "source": [
    "#----- HS: create a meshgrid of temperatures and specific humidities\n",
    "xx_temp, yy_q = np.meshgrid(temperature, q)"
   ]
  },
  {
   "cell_type": "code",
   "execution_count": null,
   "metadata": {},
   "outputs": [],
   "source": [
    "#----- HS: create a matrix of sea level pressures that is the same shape as xx_temp and yy_q. Assume a standard \n",
    "#----- atmospheric pressure everywhere. It might be worth it to replace this 1013 with 1013.25, but that really \n",
    "#----- won't change all too much.\n",
    "atm_sl_p = np.ones(xx_temp.shape)*1013\n",
    "\n",
    "#----- HS: use a built-in metpy function to calculate relative humidity from specific humdity. we need to do this\n",
    "#----- to calculate dewpoint, which we ultimately need to calculate wet bulb temperature, since that's the only\n",
    "#----- measure of humidity that the built-in metpy WBT function will take. Within this function, we're assigning\n",
    "#----- units of hPa to pressure and C to temperature, dividing specific humidities to get them into g/kg, and\n",
    "#----- multiplying the whole thing by 100 to put the relative humidity values into percentages.\n",
    "rh = mpcalc.relative_humidity_from_specific_humidity(atm_sl_p * units.hPa, xx_temp * units.degC, yy_q / 1000) * 100"
   ]
  },
  {
   "cell_type": "code",
   "execution_count": null,
   "metadata": {},
   "outputs": [],
   "source": [
    "rh"
   ]
  },
  {
   "cell_type": "code",
   "execution_count": 4,
   "metadata": {},
   "outputs": [
    {
     "name": "stderr",
     "output_type": "stream",
     "text": [
      "C:\\Users\\cathe\\anaconda3\\lib\\site-packages\\metpy\\calc\\thermo.py:1022: UserWarning: Relative humidity >120%, ensure proper units.\n",
      "  warnings.warn('Relative humidity >120%, ensure proper units.')\n",
      "C:\\Users\\cathe\\anaconda3\\lib\\site-packages\\pint\\numpy_func.py:303: RuntimeWarning: divide by zero encountered in log\n",
      "  result_magnitude = func(*stripped_args, **stripped_kwargs)\n",
      "C:\\Users\\cathe\\anaconda3\\lib\\site-packages\\pint\\quantity.py:1237: RuntimeWarning: invalid value encountered in true_divide\n",
      "  magnitude = magnitude_op(new_self._magnitude, other._magnitude)\n"
     ]
    },
    {
     "ename": "KeyboardInterrupt",
     "evalue": "",
     "output_type": "error",
     "traceback": [
      "\u001b[1;31m---------------------------------------------------------------------------\u001b[0m",
      "\u001b[1;31mKeyboardInterrupt\u001b[0m                         Traceback (most recent call last)",
      "\u001b[1;32m<ipython-input-4-e3ae45b98570>\u001b[0m in \u001b[0;36m<module>\u001b[1;34m\u001b[0m\n\u001b[0;32m     17\u001b[0m \u001b[1;31m#----- HS: use a built-in metpy function to calculate WBT from pressure, temperature, and dewpoint, assigning units\u001b[0m\u001b[1;33m\u001b[0m\u001b[1;33m\u001b[0m\u001b[1;33m\u001b[0m\u001b[0m\n\u001b[0;32m     18\u001b[0m \u001b[1;31m#----- of hPa to pressure and C to temperature.\u001b[0m\u001b[1;33m\u001b[0m\u001b[1;33m\u001b[0m\u001b[1;33m\u001b[0m\u001b[0m\n\u001b[1;32m---> 19\u001b[1;33m \u001b[0mWBT_mesh_q\u001b[0m \u001b[1;33m=\u001b[0m \u001b[0mmpcalc\u001b[0m\u001b[1;33m.\u001b[0m\u001b[0mwet_bulb_temperature\u001b[0m\u001b[1;33m(\u001b[0m\u001b[0matm_sl_p\u001b[0m \u001b[1;33m*\u001b[0m \u001b[0munits\u001b[0m\u001b[1;33m.\u001b[0m\u001b[0mhPa\u001b[0m\u001b[1;33m,\u001b[0m \u001b[0mxx_temp\u001b[0m \u001b[1;33m*\u001b[0m \u001b[0munits\u001b[0m\u001b[1;33m.\u001b[0m\u001b[0mdegC\u001b[0m\u001b[1;33m,\u001b[0m \u001b[0mdew_point\u001b[0m\u001b[1;33m)\u001b[0m\u001b[1;33m\u001b[0m\u001b[1;33m\u001b[0m\u001b[0m\n\u001b[0m",
      "\u001b[1;32m~\\anaconda3\\lib\\site-packages\\metpy\\xarray.py\u001b[0m in \u001b[0;36mwrapper\u001b[1;34m(*args, **kwargs)\u001b[0m\n\u001b[0;32m   1214\u001b[0m \u001b[1;33m\u001b[0m\u001b[0m\n\u001b[0;32m   1215\u001b[0m             \u001b[1;31m# Evaluate inner calculation\u001b[0m\u001b[1;33m\u001b[0m\u001b[1;33m\u001b[0m\u001b[1;33m\u001b[0m\u001b[0m\n\u001b[1;32m-> 1216\u001b[1;33m             \u001b[0mresult\u001b[0m \u001b[1;33m=\u001b[0m \u001b[0mfunc\u001b[0m\u001b[1;33m(\u001b[0m\u001b[1;33m*\u001b[0m\u001b[0mbound_args\u001b[0m\u001b[1;33m.\u001b[0m\u001b[0margs\u001b[0m\u001b[1;33m,\u001b[0m \u001b[1;33m**\u001b[0m\u001b[0mbound_args\u001b[0m\u001b[1;33m.\u001b[0m\u001b[0mkwargs\u001b[0m\u001b[1;33m)\u001b[0m\u001b[1;33m\u001b[0m\u001b[1;33m\u001b[0m\u001b[0m\n\u001b[0m\u001b[0;32m   1217\u001b[0m \u001b[1;33m\u001b[0m\u001b[0m\n\u001b[0;32m   1218\u001b[0m             \u001b[1;31m# Wrap output based on match and match_unit\u001b[0m\u001b[1;33m\u001b[0m\u001b[1;33m\u001b[0m\u001b[1;33m\u001b[0m\u001b[0m\n",
      "\u001b[1;32m~\\anaconda3\\lib\\site-packages\\metpy\\units.py\u001b[0m in \u001b[0;36mwrapper\u001b[1;34m(*args, **kwargs)\u001b[0m\n\u001b[0;32m    244\u001b[0m                                'that the function is being called properly.\\n') + msg\n\u001b[0;32m    245\u001b[0m                 \u001b[1;32mraise\u001b[0m \u001b[0mValueError\u001b[0m\u001b[1;33m(\u001b[0m\u001b[0mmsg\u001b[0m\u001b[1;33m)\u001b[0m\u001b[1;33m\u001b[0m\u001b[1;33m\u001b[0m\u001b[0m\n\u001b[1;32m--> 246\u001b[1;33m             \u001b[1;32mreturn\u001b[0m \u001b[0mfunc\u001b[0m\u001b[1;33m(\u001b[0m\u001b[1;33m*\u001b[0m\u001b[0margs\u001b[0m\u001b[1;33m,\u001b[0m \u001b[1;33m**\u001b[0m\u001b[0mkwargs\u001b[0m\u001b[1;33m)\u001b[0m\u001b[1;33m\u001b[0m\u001b[1;33m\u001b[0m\u001b[0m\n\u001b[0m\u001b[0;32m    247\u001b[0m \u001b[1;33m\u001b[0m\u001b[0m\n\u001b[0;32m    248\u001b[0m         \u001b[1;32mreturn\u001b[0m \u001b[0mwrapper\u001b[0m\u001b[1;33m\u001b[0m\u001b[1;33m\u001b[0m\u001b[0m\n",
      "\u001b[1;32m~\\anaconda3\\lib\\site-packages\\metpy\\calc\\thermo.py\u001b[0m in \u001b[0;36mwet_bulb_temperature\u001b[1;34m(pressure, temperature, dewpoint)\u001b[0m\n\u001b[0;32m   2977\u001b[0m \u001b[1;33m\u001b[0m\u001b[0m\n\u001b[0;32m   2978\u001b[0m     \u001b[1;32mfor\u001b[0m \u001b[0mpress\u001b[0m\u001b[1;33m,\u001b[0m \u001b[0mlpress\u001b[0m\u001b[1;33m,\u001b[0m \u001b[0mltemp\u001b[0m\u001b[1;33m,\u001b[0m \u001b[0mret\u001b[0m \u001b[1;32min\u001b[0m \u001b[0mit\u001b[0m\u001b[1;33m:\u001b[0m\u001b[1;33m\u001b[0m\u001b[1;33m\u001b[0m\u001b[0m\n\u001b[1;32m-> 2979\u001b[1;33m         moist_adiabat_temperatures = moist_lapse(units.Quantity(press, pressure.units),\n\u001b[0m\u001b[0;32m   2980\u001b[0m                                                  \u001b[0munits\u001b[0m\u001b[1;33m.\u001b[0m\u001b[0mQuantity\u001b[0m\u001b[1;33m(\u001b[0m\u001b[0mltemp\u001b[0m\u001b[1;33m,\u001b[0m \u001b[0mlcl_temp\u001b[0m\u001b[1;33m.\u001b[0m\u001b[0munits\u001b[0m\u001b[1;33m)\u001b[0m\u001b[1;33m,\u001b[0m\u001b[1;33m\u001b[0m\u001b[1;33m\u001b[0m\u001b[0m\n\u001b[0;32m   2981\u001b[0m                                                  units.Quantity(lpress, lcl_press.units))\n",
      "\u001b[1;32m~\\anaconda3\\lib\\site-packages\\metpy\\xarray.py\u001b[0m in \u001b[0;36mwrapper\u001b[1;34m(*args, **kwargs)\u001b[0m\n\u001b[0;32m   1214\u001b[0m \u001b[1;33m\u001b[0m\u001b[0m\n\u001b[0;32m   1215\u001b[0m             \u001b[1;31m# Evaluate inner calculation\u001b[0m\u001b[1;33m\u001b[0m\u001b[1;33m\u001b[0m\u001b[1;33m\u001b[0m\u001b[0m\n\u001b[1;32m-> 1216\u001b[1;33m             \u001b[0mresult\u001b[0m \u001b[1;33m=\u001b[0m \u001b[0mfunc\u001b[0m\u001b[1;33m(\u001b[0m\u001b[1;33m*\u001b[0m\u001b[0mbound_args\u001b[0m\u001b[1;33m.\u001b[0m\u001b[0margs\u001b[0m\u001b[1;33m,\u001b[0m \u001b[1;33m**\u001b[0m\u001b[0mbound_args\u001b[0m\u001b[1;33m.\u001b[0m\u001b[0mkwargs\u001b[0m\u001b[1;33m)\u001b[0m\u001b[1;33m\u001b[0m\u001b[1;33m\u001b[0m\u001b[0m\n\u001b[0m\u001b[0;32m   1217\u001b[0m \u001b[1;33m\u001b[0m\u001b[0m\n\u001b[0;32m   1218\u001b[0m             \u001b[1;31m# Wrap output based on match and match_unit\u001b[0m\u001b[1;33m\u001b[0m\u001b[1;33m\u001b[0m\u001b[1;33m\u001b[0m\u001b[0m\n",
      "\u001b[1;32m~\\anaconda3\\lib\\site-packages\\metpy\\units.py\u001b[0m in \u001b[0;36mwrapper\u001b[1;34m(*args, **kwargs)\u001b[0m\n\u001b[0;32m    244\u001b[0m                                'that the function is being called properly.\\n') + msg\n\u001b[0;32m    245\u001b[0m                 \u001b[1;32mraise\u001b[0m \u001b[0mValueError\u001b[0m\u001b[1;33m(\u001b[0m\u001b[0mmsg\u001b[0m\u001b[1;33m)\u001b[0m\u001b[1;33m\u001b[0m\u001b[1;33m\u001b[0m\u001b[0m\n\u001b[1;32m--> 246\u001b[1;33m             \u001b[1;32mreturn\u001b[0m \u001b[0mfunc\u001b[0m\u001b[1;33m(\u001b[0m\u001b[1;33m*\u001b[0m\u001b[0margs\u001b[0m\u001b[1;33m,\u001b[0m \u001b[1;33m**\u001b[0m\u001b[0mkwargs\u001b[0m\u001b[1;33m)\u001b[0m\u001b[1;33m\u001b[0m\u001b[1;33m\u001b[0m\u001b[0m\n\u001b[0m\u001b[0;32m    247\u001b[0m \u001b[1;33m\u001b[0m\u001b[0m\n\u001b[0;32m    248\u001b[0m         \u001b[1;32mreturn\u001b[0m \u001b[0mwrapper\u001b[0m\u001b[1;33m\u001b[0m\u001b[1;33m\u001b[0m\u001b[0m\n",
      "\u001b[1;32m~\\anaconda3\\lib\\site-packages\\metpy\\calc\\thermo.py\u001b[0m in \u001b[0;36mmoist_lapse\u001b[1;34m(pressure, temperature, reference_pressure)\u001b[0m\n\u001b[0;32m    333\u001b[0m         \u001b[1;31m# Integrate upward in pressure\u001b[0m\u001b[1;33m\u001b[0m\u001b[1;33m\u001b[0m\u001b[1;33m\u001b[0m\u001b[0m\n\u001b[0;32m    334\u001b[0m         \u001b[0mpres_up\u001b[0m \u001b[1;33m=\u001b[0m \u001b[0mnp\u001b[0m\u001b[1;33m.\u001b[0m\u001b[0mappend\u001b[0m\u001b[1;33m(\u001b[0m\u001b[0mreference_pressure\u001b[0m\u001b[1;33m.\u001b[0m\u001b[0mm\u001b[0m\u001b[1;33m,\u001b[0m \u001b[0mpressure\u001b[0m\u001b[1;33m[\u001b[0m\u001b[0mref_pres_idx\u001b[0m\u001b[1;33m:\u001b[0m\u001b[1;33m]\u001b[0m\u001b[1;33m.\u001b[0m\u001b[0mm\u001b[0m\u001b[1;33m)\u001b[0m\u001b[1;33m\u001b[0m\u001b[1;33m\u001b[0m\u001b[0m\n\u001b[1;32m--> 335\u001b[1;33m         \u001b[0mtrace_up\u001b[0m \u001b[1;33m=\u001b[0m \u001b[0msi\u001b[0m\u001b[1;33m.\u001b[0m\u001b[0modeint\u001b[0m\u001b[1;33m(\u001b[0m\u001b[0mdt\u001b[0m\u001b[1;33m,\u001b[0m \u001b[0mtemperature\u001b[0m\u001b[1;33m.\u001b[0m\u001b[0mm\u001b[0m\u001b[1;33m.\u001b[0m\u001b[0msqueeze\u001b[0m\u001b[1;33m(\u001b[0m\u001b[1;33m)\u001b[0m\u001b[1;33m,\u001b[0m \u001b[0mpres_up\u001b[0m\u001b[1;33m.\u001b[0m\u001b[0msqueeze\u001b[0m\u001b[1;33m(\u001b[0m\u001b[1;33m)\u001b[0m\u001b[1;33m)\u001b[0m\u001b[1;33m\u001b[0m\u001b[1;33m\u001b[0m\u001b[0m\n\u001b[0m\u001b[0;32m    336\u001b[0m         \u001b[0mret_temperatures\u001b[0m \u001b[1;33m=\u001b[0m \u001b[0mnp\u001b[0m\u001b[1;33m.\u001b[0m\u001b[0mconcatenate\u001b[0m\u001b[1;33m(\u001b[0m\u001b[1;33m(\u001b[0m\u001b[0mret_temperatures\u001b[0m\u001b[1;33m,\u001b[0m \u001b[0mtrace_up\u001b[0m\u001b[1;33m[\u001b[0m\u001b[1;36m1\u001b[0m\u001b[1;33m:\u001b[0m\u001b[1;33m]\u001b[0m\u001b[1;33m)\u001b[0m\u001b[1;33m)\u001b[0m\u001b[1;33m\u001b[0m\u001b[1;33m\u001b[0m\u001b[0m\n\u001b[0;32m    337\u001b[0m \u001b[1;33m\u001b[0m\u001b[0m\n",
      "\u001b[1;32m~\\anaconda3\\lib\\site-packages\\scipy\\integrate\\odepack.py\u001b[0m in \u001b[0;36modeint\u001b[1;34m(func, y0, t, args, Dfun, col_deriv, full_output, ml, mu, rtol, atol, tcrit, h0, hmax, hmin, ixpr, mxstep, mxhnil, mxordn, mxords, printmessg, tfirst)\u001b[0m\n\u001b[0;32m    239\u001b[0m     \u001b[0mt\u001b[0m \u001b[1;33m=\u001b[0m \u001b[0mcopy\u001b[0m\u001b[1;33m(\u001b[0m\u001b[0mt\u001b[0m\u001b[1;33m)\u001b[0m\u001b[1;33m\u001b[0m\u001b[1;33m\u001b[0m\u001b[0m\n\u001b[0;32m    240\u001b[0m     \u001b[0my0\u001b[0m \u001b[1;33m=\u001b[0m \u001b[0mcopy\u001b[0m\u001b[1;33m(\u001b[0m\u001b[0my0\u001b[0m\u001b[1;33m)\u001b[0m\u001b[1;33m\u001b[0m\u001b[1;33m\u001b[0m\u001b[0m\n\u001b[1;32m--> 241\u001b[1;33m     output = _odepack.odeint(func, y0, t, args, Dfun, col_deriv, ml, mu,\n\u001b[0m\u001b[0;32m    242\u001b[0m                              \u001b[0mfull_output\u001b[0m\u001b[1;33m,\u001b[0m \u001b[0mrtol\u001b[0m\u001b[1;33m,\u001b[0m \u001b[0matol\u001b[0m\u001b[1;33m,\u001b[0m \u001b[0mtcrit\u001b[0m\u001b[1;33m,\u001b[0m \u001b[0mh0\u001b[0m\u001b[1;33m,\u001b[0m \u001b[0mhmax\u001b[0m\u001b[1;33m,\u001b[0m \u001b[0mhmin\u001b[0m\u001b[1;33m,\u001b[0m\u001b[1;33m\u001b[0m\u001b[1;33m\u001b[0m\u001b[0m\n\u001b[0;32m    243\u001b[0m                              \u001b[0mixpr\u001b[0m\u001b[1;33m,\u001b[0m \u001b[0mmxstep\u001b[0m\u001b[1;33m,\u001b[0m \u001b[0mmxhnil\u001b[0m\u001b[1;33m,\u001b[0m \u001b[0mmxordn\u001b[0m\u001b[1;33m,\u001b[0m \u001b[0mmxords\u001b[0m\u001b[1;33m,\u001b[0m\u001b[1;33m\u001b[0m\u001b[1;33m\u001b[0m\u001b[0m\n",
      "\u001b[1;32m~\\anaconda3\\lib\\site-packages\\metpy\\calc\\thermo.py\u001b[0m in \u001b[0;36mdt\u001b[1;34m(t, p)\u001b[0m\n\u001b[0;32m    295\u001b[0m         \u001b[0mt\u001b[0m \u001b[1;33m=\u001b[0m \u001b[0munits\u001b[0m\u001b[1;33m.\u001b[0m\u001b[0mQuantity\u001b[0m\u001b[1;33m(\u001b[0m\u001b[0mt\u001b[0m\u001b[1;33m,\u001b[0m \u001b[0mtemperature\u001b[0m\u001b[1;33m.\u001b[0m\u001b[0munits\u001b[0m\u001b[1;33m)\u001b[0m\u001b[1;33m\u001b[0m\u001b[1;33m\u001b[0m\u001b[0m\n\u001b[0;32m    296\u001b[0m         \u001b[0mp\u001b[0m \u001b[1;33m=\u001b[0m \u001b[0munits\u001b[0m\u001b[1;33m.\u001b[0m\u001b[0mQuantity\u001b[0m\u001b[1;33m(\u001b[0m\u001b[0mp\u001b[0m\u001b[1;33m,\u001b[0m \u001b[0mpressure\u001b[0m\u001b[1;33m.\u001b[0m\u001b[0munits\u001b[0m\u001b[1;33m)\u001b[0m\u001b[1;33m\u001b[0m\u001b[1;33m\u001b[0m\u001b[0m\n\u001b[1;32m--> 297\u001b[1;33m         \u001b[0mrs\u001b[0m \u001b[1;33m=\u001b[0m \u001b[0msaturation_mixing_ratio\u001b[0m\u001b[1;33m(\u001b[0m\u001b[0mp\u001b[0m\u001b[1;33m,\u001b[0m \u001b[0mt\u001b[0m\u001b[1;33m)\u001b[0m\u001b[1;33m\u001b[0m\u001b[1;33m\u001b[0m\u001b[0m\n\u001b[0m\u001b[0;32m    298\u001b[0m         frac = ((mpconsts.Rd * t + mpconsts.Lv * rs)\n\u001b[0;32m    299\u001b[0m                 / (mpconsts.Cp_d + (mpconsts.Lv * mpconsts.Lv * rs * mpconsts.epsilon\n",
      "\u001b[1;32m~\\anaconda3\\lib\\site-packages\\metpy\\xarray.py\u001b[0m in \u001b[0;36mwrapper\u001b[1;34m(*args, **kwargs)\u001b[0m\n\u001b[0;32m   1214\u001b[0m \u001b[1;33m\u001b[0m\u001b[0m\n\u001b[0;32m   1215\u001b[0m             \u001b[1;31m# Evaluate inner calculation\u001b[0m\u001b[1;33m\u001b[0m\u001b[1;33m\u001b[0m\u001b[1;33m\u001b[0m\u001b[0m\n\u001b[1;32m-> 1216\u001b[1;33m             \u001b[0mresult\u001b[0m \u001b[1;33m=\u001b[0m \u001b[0mfunc\u001b[0m\u001b[1;33m(\u001b[0m\u001b[1;33m*\u001b[0m\u001b[0mbound_args\u001b[0m\u001b[1;33m.\u001b[0m\u001b[0margs\u001b[0m\u001b[1;33m,\u001b[0m \u001b[1;33m**\u001b[0m\u001b[0mbound_args\u001b[0m\u001b[1;33m.\u001b[0m\u001b[0mkwargs\u001b[0m\u001b[1;33m)\u001b[0m\u001b[1;33m\u001b[0m\u001b[1;33m\u001b[0m\u001b[0m\n\u001b[0m\u001b[0;32m   1217\u001b[0m \u001b[1;33m\u001b[0m\u001b[0m\n\u001b[0;32m   1218\u001b[0m             \u001b[1;31m# Wrap output based on match and match_unit\u001b[0m\u001b[1;33m\u001b[0m\u001b[1;33m\u001b[0m\u001b[1;33m\u001b[0m\u001b[0m\n",
      "\u001b[1;32m~\\anaconda3\\lib\\site-packages\\metpy\\units.py\u001b[0m in \u001b[0;36mwrapper\u001b[1;34m(*args, **kwargs)\u001b[0m\n\u001b[0;32m    244\u001b[0m                                'that the function is being called properly.\\n') + msg\n\u001b[0;32m    245\u001b[0m                 \u001b[1;32mraise\u001b[0m \u001b[0mValueError\u001b[0m\u001b[1;33m(\u001b[0m\u001b[0mmsg\u001b[0m\u001b[1;33m)\u001b[0m\u001b[1;33m\u001b[0m\u001b[1;33m\u001b[0m\u001b[0m\n\u001b[1;32m--> 246\u001b[1;33m             \u001b[1;32mreturn\u001b[0m \u001b[0mfunc\u001b[0m\u001b[1;33m(\u001b[0m\u001b[1;33m*\u001b[0m\u001b[0margs\u001b[0m\u001b[1;33m,\u001b[0m \u001b[1;33m**\u001b[0m\u001b[0mkwargs\u001b[0m\u001b[1;33m)\u001b[0m\u001b[1;33m\u001b[0m\u001b[1;33m\u001b[0m\u001b[0m\n\u001b[0m\u001b[0;32m    247\u001b[0m \u001b[1;33m\u001b[0m\u001b[0m\n\u001b[0;32m    248\u001b[0m         \u001b[1;32mreturn\u001b[0m \u001b[0mwrapper\u001b[0m\u001b[1;33m\u001b[0m\u001b[1;33m\u001b[0m\u001b[0m\n",
      "\u001b[1;32m~\\anaconda3\\lib\\site-packages\\metpy\\calc\\thermo.py\u001b[0m in \u001b[0;36msaturation_mixing_ratio\u001b[1;34m(total_press, temperature)\u001b[0m\n\u001b[0;32m   1140\u001b[0m \u001b[1;33m\u001b[0m\u001b[0m\n\u001b[0;32m   1141\u001b[0m     \"\"\"\n\u001b[1;32m-> 1142\u001b[1;33m     \u001b[1;32mreturn\u001b[0m \u001b[0mmixing_ratio\u001b[0m\u001b[1;33m(\u001b[0m\u001b[0msaturation_vapor_pressure\u001b[0m\u001b[1;33m(\u001b[0m\u001b[0mtemperature\u001b[0m\u001b[1;33m)\u001b[0m\u001b[1;33m,\u001b[0m \u001b[0mtotal_press\u001b[0m\u001b[1;33m)\u001b[0m\u001b[1;33m\u001b[0m\u001b[1;33m\u001b[0m\u001b[0m\n\u001b[0m\u001b[0;32m   1143\u001b[0m \u001b[1;33m\u001b[0m\u001b[0m\n\u001b[0;32m   1144\u001b[0m \u001b[1;33m\u001b[0m\u001b[0m\n",
      "\u001b[1;32m~\\anaconda3\\lib\\site-packages\\metpy\\xarray.py\u001b[0m in \u001b[0;36mwrapper\u001b[1;34m(*args, **kwargs)\u001b[0m\n\u001b[0;32m   1214\u001b[0m \u001b[1;33m\u001b[0m\u001b[0m\n\u001b[0;32m   1215\u001b[0m             \u001b[1;31m# Evaluate inner calculation\u001b[0m\u001b[1;33m\u001b[0m\u001b[1;33m\u001b[0m\u001b[1;33m\u001b[0m\u001b[0m\n\u001b[1;32m-> 1216\u001b[1;33m             \u001b[0mresult\u001b[0m \u001b[1;33m=\u001b[0m \u001b[0mfunc\u001b[0m\u001b[1;33m(\u001b[0m\u001b[1;33m*\u001b[0m\u001b[0mbound_args\u001b[0m\u001b[1;33m.\u001b[0m\u001b[0margs\u001b[0m\u001b[1;33m,\u001b[0m \u001b[1;33m**\u001b[0m\u001b[0mbound_args\u001b[0m\u001b[1;33m.\u001b[0m\u001b[0mkwargs\u001b[0m\u001b[1;33m)\u001b[0m\u001b[1;33m\u001b[0m\u001b[1;33m\u001b[0m\u001b[0m\n\u001b[0m\u001b[0;32m   1217\u001b[0m \u001b[1;33m\u001b[0m\u001b[0m\n\u001b[0;32m   1218\u001b[0m             \u001b[1;31m# Wrap output based on match and match_unit\u001b[0m\u001b[1;33m\u001b[0m\u001b[1;33m\u001b[0m\u001b[1;33m\u001b[0m\u001b[0m\n",
      "\u001b[1;32m~\\anaconda3\\lib\\site-packages\\metpy\\units.py\u001b[0m in \u001b[0;36mwrapper\u001b[1;34m(*args, **kwargs)\u001b[0m\n\u001b[0;32m    244\u001b[0m                                'that the function is being called properly.\\n') + msg\n\u001b[0;32m    245\u001b[0m                 \u001b[1;32mraise\u001b[0m \u001b[0mValueError\u001b[0m\u001b[1;33m(\u001b[0m\u001b[0mmsg\u001b[0m\u001b[1;33m)\u001b[0m\u001b[1;33m\u001b[0m\u001b[1;33m\u001b[0m\u001b[0m\n\u001b[1;32m--> 246\u001b[1;33m             \u001b[1;32mreturn\u001b[0m \u001b[0mfunc\u001b[0m\u001b[1;33m(\u001b[0m\u001b[1;33m*\u001b[0m\u001b[0margs\u001b[0m\u001b[1;33m,\u001b[0m \u001b[1;33m**\u001b[0m\u001b[0mkwargs\u001b[0m\u001b[1;33m)\u001b[0m\u001b[1;33m\u001b[0m\u001b[1;33m\u001b[0m\u001b[0m\n\u001b[0m\u001b[0;32m    247\u001b[0m \u001b[1;33m\u001b[0m\u001b[0m\n\u001b[0;32m    248\u001b[0m         \u001b[1;32mreturn\u001b[0m \u001b[0mwrapper\u001b[0m\u001b[1;33m\u001b[0m\u001b[1;33m\u001b[0m\u001b[0m\n",
      "\u001b[1;32m~\\anaconda3\\lib\\site-packages\\metpy\\calc\\thermo.py\u001b[0m in \u001b[0;36msaturation_vapor_pressure\u001b[1;34m(temperature)\u001b[0m\n\u001b[0;32m    987\u001b[0m     \u001b[1;31m# Converted from original in terms of C to use kelvin. Using raw absolute values of C in\u001b[0m\u001b[1;33m\u001b[0m\u001b[1;33m\u001b[0m\u001b[1;33m\u001b[0m\u001b[0m\n\u001b[0;32m    988\u001b[0m     \u001b[1;31m# a formula plays havoc with units support.\u001b[0m\u001b[1;33m\u001b[0m\u001b[1;33m\u001b[0m\u001b[1;33m\u001b[0m\u001b[0m\n\u001b[1;32m--> 989\u001b[1;33m     return sat_pressure_0c * np.exp(17.67 * (temperature - units.Quantity(273.15, 'kelvin'))\n\u001b[0m\u001b[0;32m    990\u001b[0m                                     / (temperature - units.Quantity(29.65, 'kelvin')))\n\u001b[0;32m    991\u001b[0m \u001b[1;33m\u001b[0m\u001b[0m\n",
      "\u001b[1;32m~\\anaconda3\\lib\\site-packages\\pint\\quantity.py\u001b[0m in \u001b[0;36m__sub__\u001b[1;34m(self, other)\u001b[0m\n\u001b[0;32m   1087\u001b[0m \u001b[1;33m\u001b[0m\u001b[0m\n\u001b[0;32m   1088\u001b[0m     \u001b[1;32mdef\u001b[0m \u001b[0m__sub__\u001b[0m\u001b[1;33m(\u001b[0m\u001b[0mself\u001b[0m\u001b[1;33m,\u001b[0m \u001b[0mother\u001b[0m\u001b[1;33m)\u001b[0m\u001b[1;33m:\u001b[0m\u001b[1;33m\u001b[0m\u001b[1;33m\u001b[0m\u001b[0m\n\u001b[1;32m-> 1089\u001b[1;33m         \u001b[1;32mreturn\u001b[0m \u001b[0mself\u001b[0m\u001b[1;33m.\u001b[0m\u001b[0m_add_sub\u001b[0m\u001b[1;33m(\u001b[0m\u001b[0mother\u001b[0m\u001b[1;33m,\u001b[0m \u001b[0moperator\u001b[0m\u001b[1;33m.\u001b[0m\u001b[0msub\u001b[0m\u001b[1;33m)\u001b[0m\u001b[1;33m\u001b[0m\u001b[1;33m\u001b[0m\u001b[0m\n\u001b[0m\u001b[0;32m   1090\u001b[0m \u001b[1;33m\u001b[0m\u001b[0m\n\u001b[0;32m   1091\u001b[0m     \u001b[1;32mdef\u001b[0m \u001b[0m__rsub__\u001b[0m\u001b[1;33m(\u001b[0m\u001b[0mself\u001b[0m\u001b[1;33m,\u001b[0m \u001b[0mother\u001b[0m\u001b[1;33m)\u001b[0m\u001b[1;33m:\u001b[0m\u001b[1;33m\u001b[0m\u001b[1;33m\u001b[0m\u001b[0m\n",
      "\u001b[1;32m~\\anaconda3\\lib\\site-packages\\pint\\quantity.py\u001b[0m in \u001b[0;36mwrapped\u001b[1;34m(self, *args, **kwargs)\u001b[0m\n\u001b[0;32m    113\u001b[0m         \u001b[1;32melif\u001b[0m \u001b[0misinstance\u001b[0m\u001b[1;33m(\u001b[0m\u001b[0mother\u001b[0m\u001b[1;33m,\u001b[0m \u001b[0mlist\u001b[0m\u001b[1;33m)\u001b[0m \u001b[1;32mand\u001b[0m \u001b[0mother\u001b[0m \u001b[1;32mand\u001b[0m \u001b[0misinstance\u001b[0m\u001b[1;33m(\u001b[0m\u001b[0mother\u001b[0m\u001b[1;33m[\u001b[0m\u001b[1;36m0\u001b[0m\u001b[1;33m]\u001b[0m\u001b[1;33m,\u001b[0m \u001b[0mtype\u001b[0m\u001b[1;33m(\u001b[0m\u001b[0mself\u001b[0m\u001b[1;33m)\u001b[0m\u001b[1;33m)\u001b[0m\u001b[1;33m:\u001b[0m\u001b[1;33m\u001b[0m\u001b[1;33m\u001b[0m\u001b[0m\n\u001b[0;32m    114\u001b[0m             \u001b[1;32mreturn\u001b[0m \u001b[0mNotImplemented\u001b[0m\u001b[1;33m\u001b[0m\u001b[1;33m\u001b[0m\u001b[0m\n\u001b[1;32m--> 115\u001b[1;33m         \u001b[1;32mreturn\u001b[0m \u001b[0mf\u001b[0m\u001b[1;33m(\u001b[0m\u001b[0mself\u001b[0m\u001b[1;33m,\u001b[0m \u001b[1;33m*\u001b[0m\u001b[0margs\u001b[0m\u001b[1;33m,\u001b[0m \u001b[1;33m**\u001b[0m\u001b[0mkwargs\u001b[0m\u001b[1;33m)\u001b[0m\u001b[1;33m\u001b[0m\u001b[1;33m\u001b[0m\u001b[0m\n\u001b[0m\u001b[0;32m    116\u001b[0m \u001b[1;33m\u001b[0m\u001b[0m\n\u001b[0;32m    117\u001b[0m     \u001b[1;32mreturn\u001b[0m \u001b[0mwrapped\u001b[0m\u001b[1;33m\u001b[0m\u001b[1;33m\u001b[0m\u001b[0m\n",
      "\u001b[1;32m~\\anaconda3\\lib\\site-packages\\pint\\quantity.py\u001b[0m in \u001b[0;36m_add_sub\u001b[1;34m(self, other, op)\u001b[0m\n\u001b[0;32m   1024\u001b[0m                 \u001b[0mmagnitude\u001b[0m \u001b[1;33m=\u001b[0m \u001b[0mop\u001b[0m\u001b[1;33m(\u001b[0m\u001b[0mself\u001b[0m\u001b[1;33m.\u001b[0m\u001b[0m_magnitude\u001b[0m\u001b[1;33m,\u001b[0m \u001b[0mother\u001b[0m\u001b[1;33m.\u001b[0m\u001b[0m_magnitude\u001b[0m\u001b[1;33m)\u001b[0m\u001b[1;33m\u001b[0m\u001b[1;33m\u001b[0m\u001b[0m\n\u001b[0;32m   1025\u001b[0m             \u001b[1;32melse\u001b[0m\u001b[1;33m:\u001b[0m\u001b[1;33m\u001b[0m\u001b[1;33m\u001b[0m\u001b[0m\n\u001b[1;32m-> 1026\u001b[1;33m                 \u001b[0mmagnitude\u001b[0m \u001b[1;33m=\u001b[0m \u001b[0mop\u001b[0m\u001b[1;33m(\u001b[0m\u001b[0mself\u001b[0m\u001b[1;33m.\u001b[0m\u001b[0m_magnitude\u001b[0m\u001b[1;33m,\u001b[0m \u001b[0mother\u001b[0m\u001b[1;33m.\u001b[0m\u001b[0mto\u001b[0m\u001b[1;33m(\u001b[0m\u001b[0mself\u001b[0m\u001b[1;33m.\u001b[0m\u001b[0m_units\u001b[0m\u001b[1;33m)\u001b[0m\u001b[1;33m.\u001b[0m\u001b[0m_magnitude\u001b[0m\u001b[1;33m)\u001b[0m\u001b[1;33m\u001b[0m\u001b[1;33m\u001b[0m\u001b[0m\n\u001b[0m\u001b[0;32m   1027\u001b[0m             \u001b[0munits\u001b[0m \u001b[1;33m=\u001b[0m \u001b[0mself\u001b[0m\u001b[1;33m.\u001b[0m\u001b[0m_units\u001b[0m\u001b[1;33m.\u001b[0m\u001b[0mrename\u001b[0m\u001b[1;33m(\u001b[0m\u001b[0mself_non_mul_unit\u001b[0m\u001b[1;33m,\u001b[0m \u001b[1;34m\"delta_\"\u001b[0m \u001b[1;33m+\u001b[0m \u001b[0mself_non_mul_unit\u001b[0m\u001b[1;33m)\u001b[0m\u001b[1;33m\u001b[0m\u001b[1;33m\u001b[0m\u001b[0m\n\u001b[0;32m   1028\u001b[0m \u001b[1;33m\u001b[0m\u001b[0m\n",
      "\u001b[1;32m~\\anaconda3\\lib\\site-packages\\pint\\quantity.py\u001b[0m in \u001b[0;36mto\u001b[1;34m(self, other, *contexts, **ctx_kwargs)\u001b[0m\n\u001b[0;32m    658\u001b[0m         \u001b[0mother\u001b[0m \u001b[1;33m=\u001b[0m \u001b[0mto_units_container\u001b[0m\u001b[1;33m(\u001b[0m\u001b[0mother\u001b[0m\u001b[1;33m,\u001b[0m \u001b[0mself\u001b[0m\u001b[1;33m.\u001b[0m\u001b[0m_REGISTRY\u001b[0m\u001b[1;33m)\u001b[0m\u001b[1;33m\u001b[0m\u001b[1;33m\u001b[0m\u001b[0m\n\u001b[0;32m    659\u001b[0m \u001b[1;33m\u001b[0m\u001b[0m\n\u001b[1;32m--> 660\u001b[1;33m         \u001b[0mmagnitude\u001b[0m \u001b[1;33m=\u001b[0m \u001b[0mself\u001b[0m\u001b[1;33m.\u001b[0m\u001b[0m_convert_magnitude_not_inplace\u001b[0m\u001b[1;33m(\u001b[0m\u001b[0mother\u001b[0m\u001b[1;33m,\u001b[0m \u001b[1;33m*\u001b[0m\u001b[0mcontexts\u001b[0m\u001b[1;33m,\u001b[0m \u001b[1;33m**\u001b[0m\u001b[0mctx_kwargs\u001b[0m\u001b[1;33m)\u001b[0m\u001b[1;33m\u001b[0m\u001b[1;33m\u001b[0m\u001b[0m\n\u001b[0m\u001b[0;32m    661\u001b[0m \u001b[1;33m\u001b[0m\u001b[0m\n\u001b[0;32m    662\u001b[0m         \u001b[1;32mreturn\u001b[0m \u001b[0mself\u001b[0m\u001b[1;33m.\u001b[0m\u001b[0m__class__\u001b[0m\u001b[1;33m(\u001b[0m\u001b[0mmagnitude\u001b[0m\u001b[1;33m,\u001b[0m \u001b[0mother\u001b[0m\u001b[1;33m)\u001b[0m\u001b[1;33m\u001b[0m\u001b[1;33m\u001b[0m\u001b[0m\n",
      "\u001b[1;32m~\\anaconda3\\lib\\site-packages\\pint\\quantity.py\u001b[0m in \u001b[0;36m_convert_magnitude_not_inplace\u001b[1;34m(self, other, *contexts, **ctx_kwargs)\u001b[0m\n\u001b[0;32m    607\u001b[0m                 \u001b[1;32mreturn\u001b[0m \u001b[0mself\u001b[0m\u001b[1;33m.\u001b[0m\u001b[0m_REGISTRY\u001b[0m\u001b[1;33m.\u001b[0m\u001b[0mconvert\u001b[0m\u001b[1;33m(\u001b[0m\u001b[0mself\u001b[0m\u001b[1;33m.\u001b[0m\u001b[0m_magnitude\u001b[0m\u001b[1;33m,\u001b[0m \u001b[0mself\u001b[0m\u001b[1;33m.\u001b[0m\u001b[0m_units\u001b[0m\u001b[1;33m,\u001b[0m \u001b[0mother\u001b[0m\u001b[1;33m)\u001b[0m\u001b[1;33m\u001b[0m\u001b[1;33m\u001b[0m\u001b[0m\n\u001b[0;32m    608\u001b[0m \u001b[1;33m\u001b[0m\u001b[0m\n\u001b[1;32m--> 609\u001b[1;33m         \u001b[1;32mreturn\u001b[0m \u001b[0mself\u001b[0m\u001b[1;33m.\u001b[0m\u001b[0m_REGISTRY\u001b[0m\u001b[1;33m.\u001b[0m\u001b[0mconvert\u001b[0m\u001b[1;33m(\u001b[0m\u001b[0mself\u001b[0m\u001b[1;33m.\u001b[0m\u001b[0m_magnitude\u001b[0m\u001b[1;33m,\u001b[0m \u001b[0mself\u001b[0m\u001b[1;33m.\u001b[0m\u001b[0m_units\u001b[0m\u001b[1;33m,\u001b[0m \u001b[0mother\u001b[0m\u001b[1;33m)\u001b[0m\u001b[1;33m\u001b[0m\u001b[1;33m\u001b[0m\u001b[0m\n\u001b[0m\u001b[0;32m    610\u001b[0m \u001b[1;33m\u001b[0m\u001b[0m\n\u001b[0;32m    611\u001b[0m     \u001b[1;32mdef\u001b[0m \u001b[0m_convert_magnitude\u001b[0m\u001b[1;33m(\u001b[0m\u001b[0mself\u001b[0m\u001b[1;33m,\u001b[0m \u001b[0mother\u001b[0m\u001b[1;33m,\u001b[0m \u001b[1;33m*\u001b[0m\u001b[0mcontexts\u001b[0m\u001b[1;33m,\u001b[0m \u001b[1;33m**\u001b[0m\u001b[0mctx_kwargs\u001b[0m\u001b[1;33m)\u001b[0m\u001b[1;33m:\u001b[0m\u001b[1;33m\u001b[0m\u001b[1;33m\u001b[0m\u001b[0m\n",
      "\u001b[1;32m~\\anaconda3\\lib\\site-packages\\pint\\registry.py\u001b[0m in \u001b[0;36mconvert\u001b[1;34m(self, value, src, dst, inplace)\u001b[0m\n\u001b[0;32m    945\u001b[0m             \u001b[1;32mreturn\u001b[0m \u001b[0mvalue\u001b[0m\u001b[1;33m\u001b[0m\u001b[1;33m\u001b[0m\u001b[0m\n\u001b[0;32m    946\u001b[0m \u001b[1;33m\u001b[0m\u001b[0m\n\u001b[1;32m--> 947\u001b[1;33m         \u001b[1;32mreturn\u001b[0m \u001b[0mself\u001b[0m\u001b[1;33m.\u001b[0m\u001b[0m_convert\u001b[0m\u001b[1;33m(\u001b[0m\u001b[0mvalue\u001b[0m\u001b[1;33m,\u001b[0m \u001b[0msrc\u001b[0m\u001b[1;33m,\u001b[0m \u001b[0mdst\u001b[0m\u001b[1;33m,\u001b[0m \u001b[0minplace\u001b[0m\u001b[1;33m)\u001b[0m\u001b[1;33m\u001b[0m\u001b[1;33m\u001b[0m\u001b[0m\n\u001b[0m\u001b[0;32m    948\u001b[0m \u001b[1;33m\u001b[0m\u001b[0m\n\u001b[0;32m    949\u001b[0m     \u001b[1;32mdef\u001b[0m \u001b[0m_convert\u001b[0m\u001b[1;33m(\u001b[0m\u001b[0mself\u001b[0m\u001b[1;33m,\u001b[0m \u001b[0mvalue\u001b[0m\u001b[1;33m,\u001b[0m \u001b[0msrc\u001b[0m\u001b[1;33m,\u001b[0m \u001b[0mdst\u001b[0m\u001b[1;33m,\u001b[0m \u001b[0minplace\u001b[0m\u001b[1;33m=\u001b[0m\u001b[1;32mFalse\u001b[0m\u001b[1;33m,\u001b[0m \u001b[0mcheck_dimensionality\u001b[0m\u001b[1;33m=\u001b[0m\u001b[1;32mTrue\u001b[0m\u001b[1;33m)\u001b[0m\u001b[1;33m:\u001b[0m\u001b[1;33m\u001b[0m\u001b[1;33m\u001b[0m\u001b[0m\n",
      "\u001b[1;32m~\\anaconda3\\lib\\site-packages\\pint\\registry.py\u001b[0m in \u001b[0;36m_convert\u001b[1;34m(self, value, src, dst, inplace)\u001b[0m\n\u001b[0;32m   1828\u001b[0m                 \u001b[0mvalue\u001b[0m\u001b[1;33m,\u001b[0m \u001b[0msrc\u001b[0m \u001b[1;33m=\u001b[0m \u001b[0msrc\u001b[0m\u001b[1;33m.\u001b[0m\u001b[0m_magnitude\u001b[0m\u001b[1;33m,\u001b[0m \u001b[0msrc\u001b[0m\u001b[1;33m.\u001b[0m\u001b[0m_units\u001b[0m\u001b[1;33m\u001b[0m\u001b[1;33m\u001b[0m\u001b[0m\n\u001b[0;32m   1829\u001b[0m \u001b[1;33m\u001b[0m\u001b[0m\n\u001b[1;32m-> 1830\u001b[1;33m         \u001b[1;32mreturn\u001b[0m \u001b[0msuper\u001b[0m\u001b[1;33m(\u001b[0m\u001b[1;33m)\u001b[0m\u001b[1;33m.\u001b[0m\u001b[0m_convert\u001b[0m\u001b[1;33m(\u001b[0m\u001b[0mvalue\u001b[0m\u001b[1;33m,\u001b[0m \u001b[0msrc\u001b[0m\u001b[1;33m,\u001b[0m \u001b[0mdst\u001b[0m\u001b[1;33m,\u001b[0m \u001b[0minplace\u001b[0m\u001b[1;33m)\u001b[0m\u001b[1;33m\u001b[0m\u001b[1;33m\u001b[0m\u001b[0m\n\u001b[0m\u001b[0;32m   1831\u001b[0m \u001b[1;33m\u001b[0m\u001b[0m\n\u001b[0;32m   1832\u001b[0m     \u001b[1;32mdef\u001b[0m \u001b[0m_get_compatible_units\u001b[0m\u001b[1;33m(\u001b[0m\u001b[0mself\u001b[0m\u001b[1;33m,\u001b[0m \u001b[0minput_units\u001b[0m\u001b[1;33m,\u001b[0m \u001b[0mgroup_or_system\u001b[0m\u001b[1;33m)\u001b[0m\u001b[1;33m:\u001b[0m\u001b[1;33m\u001b[0m\u001b[1;33m\u001b[0m\u001b[0m\n",
      "\u001b[1;32m~\\anaconda3\\lib\\site-packages\\pint\\registry.py\u001b[0m in \u001b[0;36m_convert\u001b[1;34m(self, value, src, dst, inplace)\u001b[0m\n\u001b[0;32m   1455\u001b[0m \u001b[1;33m\u001b[0m\u001b[0m\n\u001b[0;32m   1456\u001b[0m         \u001b[1;31m# Convert non multiplicative units to the dst.\u001b[0m\u001b[1;33m\u001b[0m\u001b[1;33m\u001b[0m\u001b[1;33m\u001b[0m\u001b[0m\n\u001b[1;32m-> 1457\u001b[1;33m         \u001b[0mvalue\u001b[0m \u001b[1;33m=\u001b[0m \u001b[0msuper\u001b[0m\u001b[1;33m(\u001b[0m\u001b[1;33m)\u001b[0m\u001b[1;33m.\u001b[0m\u001b[0m_convert\u001b[0m\u001b[1;33m(\u001b[0m\u001b[0mvalue\u001b[0m\u001b[1;33m,\u001b[0m \u001b[0msrc\u001b[0m\u001b[1;33m,\u001b[0m \u001b[0mdst\u001b[0m\u001b[1;33m,\u001b[0m \u001b[0minplace\u001b[0m\u001b[1;33m,\u001b[0m \u001b[1;32mFalse\u001b[0m\u001b[1;33m)\u001b[0m\u001b[1;33m\u001b[0m\u001b[1;33m\u001b[0m\u001b[0m\n\u001b[0m\u001b[0;32m   1458\u001b[0m \u001b[1;33m\u001b[0m\u001b[0m\n\u001b[0;32m   1459\u001b[0m         \u001b[1;31m# Finally convert to offset units specified in destination\u001b[0m\u001b[1;33m\u001b[0m\u001b[1;33m\u001b[0m\u001b[1;33m\u001b[0m\u001b[0m\n",
      "\u001b[1;32m~\\anaconda3\\lib\\site-packages\\pint\\registry.py\u001b[0m in \u001b[0;36m_convert\u001b[1;34m(self, value, src, dst, inplace, check_dimensionality)\u001b[0m\n\u001b[0;32m    982\u001b[0m         \u001b[1;31m# Here src and dst have only multiplicative units left. Thus we can\u001b[0m\u001b[1;33m\u001b[0m\u001b[1;33m\u001b[0m\u001b[1;33m\u001b[0m\u001b[0m\n\u001b[0;32m    983\u001b[0m         \u001b[1;31m# convert with a factor.\u001b[0m\u001b[1;33m\u001b[0m\u001b[1;33m\u001b[0m\u001b[1;33m\u001b[0m\u001b[0m\n\u001b[1;32m--> 984\u001b[1;33m         \u001b[0mfactor\u001b[0m\u001b[1;33m,\u001b[0m \u001b[0m_\u001b[0m \u001b[1;33m=\u001b[0m \u001b[0mself\u001b[0m\u001b[1;33m.\u001b[0m\u001b[0m_get_root_units\u001b[0m\u001b[1;33m(\u001b[0m\u001b[0msrc\u001b[0m \u001b[1;33m/\u001b[0m \u001b[0mdst\u001b[0m\u001b[1;33m)\u001b[0m\u001b[1;33m\u001b[0m\u001b[1;33m\u001b[0m\u001b[0m\n\u001b[0m\u001b[0;32m    985\u001b[0m \u001b[1;33m\u001b[0m\u001b[0m\n\u001b[0;32m    986\u001b[0m         \u001b[1;31m# factor is type float and if our magnitude is type Decimal then\u001b[0m\u001b[1;33m\u001b[0m\u001b[1;33m\u001b[0m\u001b[1;33m\u001b[0m\u001b[0m\n",
      "\u001b[1;31mKeyboardInterrupt\u001b[0m: "
     ]
    }
   ],
   "source": [
    "#----- HS: use a built-in metpy function to calculate dewpoint from relative humidity, assigning units of C to\n",
    "#----- temperature and dividing relative humidity by 100 to get it back into decimal format\n",
    "dew_point = mpcalc.dewpoint_from_relative_humidity(xx_temp * units.degC, rh / 100)\n",
    "\n",
    "#----- HS: use a built-in metpy function to calculate WBT from pressure, temperature, and dewpoint, assigning units\n",
    "#----- of hPa to pressure and C to temperature.\n",
    "WBT_mesh_q = mpcalc.wet_bulb_temperature(atm_sl_p * units.hPa, xx_temp * units.degC, dew_point)"
   ]
  },
  {
   "cell_type": "code",
   "execution_count": 7,
   "metadata": {},
   "outputs": [],
   "source": [
    "#----- HS: create the outline of a Pandas DataFrame, where the index is values of specific humidity and each column\n",
    "#----- is a different temperature\n",
    "pdWBT_q = pd.DataFrame(index = q, columns = temperature)\n",
    "\n",
    "#----- HS: Fill the DataFrame with the values of WBT we calculated\n",
    "pdWBT_q[:] = WBT_mesh_q\n",
    "\n",
    "#----- HS: Save the DataFrame as a .csv, keeping the column and row labels.\n",
    "# pdWBT_q.to_csv(workdir + 'codes/qversion_WBT_matrix.csv', header = True, index = True)"
   ]
  },
  {
   "cell_type": "markdown",
   "metadata": {},
   "source": [
    "### WBT matriz with Water vapor in the Y-axis"
   ]
  },
  {
   "cell_type": "code",
   "execution_count": 8,
   "metadata": {
    "tags": []
   },
   "outputs": [],
   "source": [
    "#----- HS: create a range of temperatures (C) to use in the matrix\n",
    "temperature = np.arange(25, 60, 0.1)\n",
    "\n",
    "#----- HS: create a range of water vapor pressures to use in the matrix\n",
    "wv =  np.arange(0, 42.25, 0.25) #mmHg"
   ]
  },
  {
   "cell_type": "code",
   "execution_count": 9,
   "metadata": {
    "tags": []
   },
   "outputs": [],
   "source": [
    "#----- HS: create a meshgrid of temperatures and water vapor pressures\n",
    "xx_temp, yy_wv = np.meshgrid(temperature, wv)\n",
    "\n",
    "#----- HS: This line was commented out in the original code, so I'm going to keep it that way for now. It looks \n",
    "#----- like Gisel tried to assign units to yy_wv here but decided to do it later instead.\n",
    "#(yy_wv*units.mmHg).to('kPa')"
   ]
  },
  {
   "cell_type": "code",
   "execution_count": 10,
   "metadata": {
    "collapsed": true,
    "jupyter": {
     "outputs_hidden": true
    },
    "tags": []
   },
   "outputs": [
    {
     "name": "stderr",
     "output_type": "stream",
     "text": [
      "C:\\Users\\haley\\AppData\\Roaming\\Python\\Python39\\site-packages\\metpy\\calc\\thermo.py:1114: RuntimeWarning: divide by zero encountered in log\n",
      "  val = np.log(vapor_pressure / mpconsts.nounit.sat_pressure_0c)\n",
      "C:\\Users\\haley\\AppData\\Roaming\\Python\\Python39\\site-packages\\metpy\\calc\\thermo.py:1115: RuntimeWarning: invalid value encountered in divide\n",
      "  return mpconsts.nounit.zero_degc + 243.5 * val / (17.67 - val)\n"
     ]
    }
   ],
   "source": [
    "#----- HS: create a matrix of sea level pressures that is the same shape as xx_temp and yy_q. Assume a standard \n",
    "#----- atmospheric pressure everywhere. It might be worth it to replace this 1013 with 1013.25, but that really \n",
    "#----- won't change all too much.\n",
    "atm_sl_p = np.ones(xx_temp.shape)*1013\n",
    "\n",
    "#----- HS: use a built-in metpy function to calculate dewpoint from water vapor pressure, assigning units of mmHg\n",
    "#----- to water vapor pressure\n",
    "dew_point = mpcalc.dewpoint(yy_wv * units.mmHg)\n",
    "\n",
    "#----- HS: use a built-in metpy function to calculate WBT from pressure, temperature, and dewpoint, assigning units\n",
    "#----- of hPa to pressure and C to temperature.\n",
    "WBT_mesh_wv = mpcalc.wet_bulb_temperature(atm_sl_p * units.hPa, xx_temp * units.degC, dew_point)"
   ]
  },
  {
   "cell_type": "code",
   "execution_count": 11,
   "metadata": {
    "tags": []
   },
   "outputs": [],
   "source": [
    "#----- HS: create the outline of a Pandas DataFrame, where the index is values of water vapor pressure and each\n",
    "#----- column is a different temperature\n",
    "pdWBT_wv = pd.DataFrame(index = wv, columns = temperature)\n",
    "\n",
    "#----- HS: Fill the DataFrame with the values of WBT we calculated\n",
    "pdWBT_wv[:] = WBT_mesh_wv\n",
    "\n",
    "#----- HS: Save the DataFrame as a .csv, keeping the column and row labels.\n",
    "# pdWBT_wv.to_csv(workdir+'codes/wvversion_WBT_matrix.csv', header = True, index = True)"
   ]
  },
  {
   "cell_type": "markdown",
   "metadata": {},
   "source": [
    "### WBT matriz with Relative humidity in the Y-axis"
   ]
  },
  {
   "cell_type": "code",
   "execution_count": 35,
   "metadata": {
    "tags": []
   },
   "outputs": [],
   "source": [
    "#----- HS: create a range of temperatures (C) to use in the matrix\n",
    "temperature = np.arange(-50, 70, .1)\n",
    "\n",
    "#----- HS: create a range of relative humidities (percentages) to use in the matrix\n",
    "humidity =  np.arange(0.5, 100.5, 0.5)\n",
    "\n",
    "#----- HS: create a meshgrid of temperatures and relative humidities\n",
    "xx_temp, yy_rh = np.meshgrid(temperature, humidity)\n",
    "\n",
    "#----- HS: use a built-in metpy function to calculate dewpoint from temperature and relative humidity, assigning \n",
    "#----- units of C to temperature and dividing relative humidity by 100 to get it back into decimal format\n",
    "dew_point = mpcalc.dewpoint_from_relative_humidity(xx_temp*units.degC, yy_rh/100)\n",
    "\n",
    "#----- HS: create a matrix of sea level pressures that is the same shape as xx_temp and yy_q. Assume a standard \n",
    "#----- atmospheric pressure everywhere. It might be worth it to replace this 1013 with 1013.25, but that really \n",
    "#----- won't change all too much.\n",
    "atm_sl_p = np.ones(xx_temp.shape) * 1013\n",
    "\n",
    "#----- HS: use a built-in metpy function to calculate WBT from pressure, temperature, and dewpoint, assigning units\n",
    "#----- of hPa to pressure and C to temperature.\n",
    "WBT_mesh = mpcalc.wet_bulb_temperature(atm_sl_p * units.hPa, xx_temp * units.degC, dew_point)"
   ]
  },
  {
   "cell_type": "code",
   "execution_count": 50,
   "metadata": {
    "tags": []
   },
   "outputs": [],
   "source": [
    "#----- HS: create the outline of a Pandas DataFrame, where the index is values of relative humidities and each\n",
    "#----- column is a different temperature\n",
    "og_pdWBT = pd.DataFrame(index = humidity, columns = temperature)\n",
    "\n",
    "#----- HS: Fill the DataFrame with the values of WBT we calculated\n",
    "og_pdWBT[:] = WBT_mesh\n",
    "\n",
    "#----- HS: Save the DataFrame as a .csv, keeping the column and row labels.\n",
    "# pdWBT.to_csv(workdir+'codes/rhversionWBT_matrix.csv',header=True,index = True)"
   ]
  },
  {
   "cell_type": "markdown",
   "metadata": {},
   "source": [
    "### NEW AND IMPROVED WBT!"
   ]
  },
  {
   "cell_type": "markdown",
   "metadata": {},
   "source": [
    "### All code below here added by haley staudmyer"
   ]
  },
  {
   "cell_type": "code",
   "execution_count": 1,
   "metadata": {
    "tags": []
   },
   "outputs": [],
   "source": [
    "# Calculate wet-bulb temperature, equivalent temperature, and equivalent\n",
    "# potential temperature from temperature, pressure, and specific humidity.\n",
    "#\n",
    "# METHODOLOGY:\n",
    "#\n",
    "# Calculates wet-bulb temperature and associated quantities using the Davies-Jones 2008 method.\n",
    "# Briefly, this involves first calculating the lifting condensation temperature (Bolton 1980 eqn 22),\n",
    "# then the moist potential temp (Bolton 1980 eqn 24), then\n",
    "# the Equivalent Potential Temperature (Bolton 1980 eqn 39).\n",
    "# and finally the wet-bulb temperature (Davies-Jones\n",
    "# 2008 eqn 3.5-3.8).  An accurate 'first guess' of wet-bulb temperature\n",
    "# is determined (Davies-Jones 2008 eqn 4.8-4.11), and then iterations via the Newton-Raphson\n",
    "# method are used to determine the final wet-bulb temperature\n",
    "# (Davies-Jones 2008 eqn 2.6).\n",
    "#\n",
    "# Reference:  Bolton: The computation of equivalent potential temperature.\n",
    "# \t      Monthly weather review (1980) vol. 108 (7) pp. 1046-1053\n",
    "#\t      Davies-Jones: An efficient and accurate method for computing the\n",
    "#\t      wet-bulb temperature along pseudoadiabats. Monthly Weather Review\n",
    "#\t      (2008) vol. 136 (7) pp. 2764-2785\n",
    "# \t      Flatau et al: Polynomial fits to saturation vapor pressure.\n",
    "#\t      Journal of Applied Meteorology (1992) vol. 31 pp. 1507-1513\n",
    "\n",
    "#\n",
    "# Ported from HumanIndexMod 04-08-16 by Jonathan R Buzan\n",
    "#\n",
    "# Ported to Python by Xianxiang Li\n",
    "# February 2, 2019\n",
    "#\n",
    "# Optimizations with numba and bug correction in derivative calculation for Newton's\n",
    "# Method applied by Alex Goodman\n",
    "# March 19, 2023\n",
    "\n",
    "\n",
    "#When called: use temperature in C, pressure in Pa, humidity in kg/kg\n",
    "#HumidityMode=0 -- specific humidity\n",
    "#HumidityMode=1 -- relative humidity (%)\n",
    "\n",
    "#Example: WetBulb(30,10**5,0.02,0)[0]\n",
    "#should give the result of 26.04 C\n",
    "\n",
    "import sys\n",
    "import numba as nb\n",
    "import numpy as np\n",
    "\n",
    "#Necessary constants\n",
    "lambd_a = 3.504    \t# Inverse of Heat Capacity\n",
    "alpha = 17.67 \t    # Constant to calculate vapor pressure\n",
    "beta = 243.5\t\t# Constant to calculate vapor pressure\n",
    "epsilon = 0.6220\t# Conversion between pressure/mixing ratio\n",
    "es_C = 611.2\t\t# Vapor Pressure at Freezing STD (Pa)\n",
    "y0 = 3036\t\t    # constant\n",
    "y1 = 1.78\t\t    # constant\n",
    "y2 = 0.448\t\t    # constant\n",
    "Cf = 273.15\t# Freezing Temp (K)\n",
    "p0 = 100000\t    # Reference Pressure (Pa)\n",
    "constA = 2675 \t # Constant used for extreme cold temperatures (K)\n",
    "vkp = 0.2854\t # Heat Capacity"
   ]
  },
  {
   "cell_type": "code",
   "execution_count": 2,
   "metadata": {
    "tags": []
   },
   "outputs": [],
   "source": [
    "#@nb.njit(fastmath=True)\n",
    "def QSat_2(T_k, p_t, p0ndplam):\n",
    "    #Inputs: T_k is temperature in K; p_t is surface atmos pressure in Pa\n",
    "    #Outputs: es -- vapor pressure in Pa; rs -- specific humidity in kg/kg\n",
    "\n",
    "    tcfbdiff = T_k - Cf + beta\n",
    "    es = es_C * np.exp(alpha*(T_k - Cf)/(tcfbdiff))\n",
    "    dlnes_dT = alpha * beta/((tcfbdiff)*(tcfbdiff))\n",
    "    pminuse = p_t - es\n",
    "    de_dT = es * dlnes_dT\n",
    "\n",
    "    rs = epsilon * es/(p0ndplam - es + np.spacing(1)) #eps\n",
    "\n",
    "    # avoid bad numbers\n",
    "    if rs > 1 or rs < 0:\n",
    "        rs = np.nan\n",
    "\n",
    "    return es,rs,dlnes_dT"
   ]
  },
  {
   "cell_type": "code",
   "execution_count": 3,
   "metadata": {
    "tags": []
   },
   "outputs": [],
   "source": [
    "#@nb.njit(fastmath=True)\n",
    "def WetBulb(TemperatureC,Pressure,Humidity,HumidityMode):\n",
    "    #Inputs: temperature in C, pressure in Pa, specific humidity in kg/kg, HumidityMode=0 for specific humidity\n",
    "    #Outputs: Twb, Teq, epott\n",
    "    #Twb is in C, others are in K\n",
    "    TemperatureK = TemperatureC + 273.15\n",
    "    pnd = (Pressure/p0)**(vkp)\n",
    "    p0ndplam = p0*pnd**lambd_a\n",
    "    \n",
    "    C = 273.15;# Freezing Temperature in K\n",
    "    T1 = TemperatureK; # Use holder for T\n",
    "\n",
    "    es, rs, _ = QSat_2(TemperatureK, Pressure, p0ndplam) # first two returned values\n",
    "\n",
    "    if HumidityMode==0:\n",
    "        qin = Humidity                   # specific humidity\n",
    "        relhum = 100.0 * qin/rs          # relative humidity (%)\n",
    "        vape = es * relhum * 0.01   # vapor pressure (Pa)\n",
    "    elif HumidityMode==1:\n",
    "        relhum = Humidity                # relative humidity (%)\n",
    "        qin = rs * relhum * 0.01         # specific humidity\n",
    "        vape = es * relhum * 0.01   # vapor pressure (Pa)\n",
    "\n",
    "    mixr = qin * 1000;          # change specific humidity to mixing ratio (g/kg)\n",
    "\n",
    "\n",
    "    # Calculate Equivalent Pot. Temp (Pressure, T, mixing ratio (g/kg), pott, epott)\n",
    "    # Calculate Parameters for Wet Bulb Temp (epott, Pressure)\n",
    "    D = 1.0/(0.1859*Pressure/p0 + 0.6512)\n",
    "    k1 = -38.5*pnd*pnd + 137.81*pnd - 53.737\n",
    "    k2 = -4.392*pnd*pnd + 56.831*pnd - 0.384\n",
    "\n",
    "    # Calculate lifting condensation level\n",
    "    tl = (1.0/((1.0/((T1 - 55))) - (np.log(relhum/100.0)/2840.0))) + 55.0\n",
    "\n",
    "    # Theta_DL: Bolton 1980 Eqn 24.\n",
    "    theta_dl = T1*((p0/(Pressure-vape))**vkp) * ((T1/tl)**(mixr*0.00028))\n",
    "    # EPT: Bolton 1980 Eqn 39.\n",
    "    epott = theta_dl * np.exp(((3.036/tl)-0.00178)*mixr*(1 + 0.000448*mixr))\n",
    "    Teq = epott*pnd\t# Equivalent Temperature at pressure\n",
    "    X = (C/Teq)**3.504\n",
    "\n",
    "    # Calculates the regime requirements of wet bulb equations.\n",
    "    invalid = Teq > 600 or Teq < 200\n",
    "    hot = Teq > 355.15\n",
    "    cold = X>=1 and X<=D\n",
    "    if invalid:\n",
    "        return np.nan, np.nan, epott\n",
    "\n",
    "    # Calculate Wet Bulb Temperature, initial guess\n",
    "    # Extremely cold regime if X.gt.D then need to calculate dlnesTeqdTeq\n",
    "    es_teq, rs_teq, dlnes_dTeq = QSat_2(Teq, Pressure, p0ndplam)\n",
    "    if X<=D:\n",
    "        wb_temp = C + (k1 - 1.21 * cold - 1.45 * hot - (k2 - 1.21 * cold) * X + (0.58 / X) * hot)\n",
    "    else:\n",
    "        wb_temp = Teq - ((constA*rs_teq)/(1 + (constA*rs_teq*dlnes_dTeq)))\n",
    "\n",
    "    # Newton-Raphson Method\n",
    "    maxiter = 2\n",
    "    iter = 0\n",
    "    delta = 1e6\n",
    "\n",
    "    while delta>0.01 and iter<maxiter:\n",
    "        foftk_wb_temp, fdwb_temp = DJ(wb_temp, Pressure, p0ndplam)\n",
    "        delta = (foftk_wb_temp - X)/fdwb_temp  #float((foftk_wb_temp - X)/fdwb_temp)\n",
    "        delta = np.minimum(10,delta)\n",
    "        delta = np.maximum(-10,delta) #max(-10,delta)\n",
    "        wb_temp = wb_temp - delta\n",
    "        Twb = wb_temp\n",
    "        iter = iter+1\n",
    "\n",
    "    return np.round(Twb-C,2),Teq,epott"
   ]
  },
  {
   "cell_type": "code",
   "execution_count": 4,
   "metadata": {
    "tags": []
   },
   "outputs": [],
   "source": [
    "#@nb.njit(fastmath=True)\n",
    "def WetBulb_all(tempC, Pres, relHum, Hum_mode):\n",
    "    Twb = np.empty_like(tempC)\n",
    "    Teq = np.empty_like(tempC)\n",
    "    epott = np.empty_like(tempC)\n",
    "    for i in nb.prange(Twb.size):\n",
    "        Twb[i], Teq[i], epott[i] = WetBulb(tempC[i], Pres[i], relHum[i], Hum_mode)"
   ]
  },
  {
   "cell_type": "code",
   "execution_count": 5,
   "metadata": {
    "tags": []
   },
   "outputs": [],
   "source": [
    "#@nb.njit(fastmath=True, parallel=True)\n",
    "def WetBulb_par(tempC, Pres, relHum, Hum_mode):\n",
    "    Twb = np.empty_like(tempC)\n",
    "    Teq = np.empty_like(tempC)\n",
    "    epott = np.empty_like(tempC)\n",
    "    for i in nb.prange(Twb.size):\n",
    "        Twb[i], Teq[i], epott[i] = WetBulb(tempC[i], Pres[i], relHum[i], Hum_mode)"
   ]
  },
  {
   "cell_type": "code",
   "execution_count": 6,
   "metadata": {
    "tags": []
   },
   "outputs": [],
   "source": [
    "#@nb.njit(fastmath=True)\n",
    "def DJ(T_k, p_t, p0ndplam):\n",
    "    # Constants used to calculate es(T)\n",
    "    # Clausius-Clapeyron\n",
    "    tcfbdiff = T_k - Cf + beta\n",
    "    es = es_C * np.exp(alpha*(T_k - Cf)/(tcfbdiff))\n",
    "    dlnes_dT = alpha * beta/((tcfbdiff)*(tcfbdiff))\n",
    "    pminuse = p_t - es\n",
    "    de_dT = es * dlnes_dT\n",
    "\n",
    "    # Constants used to calculate rs(T)\n",
    "    rs = epsilon * es/(p0ndplam - es + np.spacing(1)) #eps)\n",
    "    prersdt = epsilon * p_t/((pminuse)*(pminuse))\n",
    "    rsdT = prersdt * de_dT\n",
    "\n",
    "    # Constants used to calculate g(T)\n",
    "    rsy2rs2 = rs + y2*rs*rs\n",
    "    oty2rs = 1 + 2.0*y2*rs\n",
    "    y0tky1 = y0/T_k - y1\n",
    "    goftk = y0tky1 * (rs + y2 * rs * rs)\n",
    "    gdT = - y0 * (rsy2rs2)/(T_k*T_k) + (y0tky1)*(oty2rs)*rsdT\n",
    "\n",
    "    # Calculations used to calculate f(T,ndimpress)\n",
    "    foftk = ((Cf/T_k)**lambd_a)*(1 - es/p0ndplam)**(vkp*lambd_a)* \\\n",
    "        np.exp(-lambd_a*goftk)\n",
    "    fdT = -lambd_a*(1.0/T_k + vkp*de_dT/pminuse + gdT) * foftk\n",
    "\n",
    "    return foftk,fdT"
   ]
  },
  {
   "cell_type": "code",
   "execution_count": 7,
   "metadata": {},
   "outputs": [],
   "source": [
    "#----- HS: create a range of temperatures (C) to use in the matrix\n",
    "temperature = np.arange(-50, 70, .1)\n",
    "\n",
    "#----- HS: create a range of relative humidities (percentages) to use in the matrix\n",
    "humidity =  np.arange(0, .02, 0.005)"
   ]
  },
  {
   "cell_type": "code",
   "execution_count": 8,
   "metadata": {},
   "outputs": [],
   "source": [
    "#----- HS: create a meshgrid of temperatures and specific humidities\n",
    "xx_temp, yy_rh = np.meshgrid(temperature, humidity)"
   ]
  },
  {
   "cell_type": "code",
   "execution_count": 9,
   "metadata": {},
   "outputs": [
    {
     "name": "stderr",
     "output_type": "stream",
     "text": [
      "C:\\Users\\haley\\AppData\\Local\\Temp\\ipykernel_6084\\1944119015.py:34: RuntimeWarning: divide by zero encountered in log\n",
      "  tl = (1.0/((1.0/((T1 - 55))) - (np.log(relhum/100.0)/2840.0))) + 55.0\n"
     ]
    }
   ],
   "source": [
    "#----- HS: create a matrix of sea level pressures that is the same shape as xx_temp and yy_q. Assume a standard \n",
    "#----- atmospheric pressure everywhere. It might be worth it to replace this 1013 with 1013.25, but that really \n",
    "#----- won't change all too much.\n",
    "atm_sl_p = np.ones(xx_temp.shape) * 101300\n",
    "\n",
    "Twb = np.empty_like(xx_temp)\n",
    "Teq = np.empty_like(xx_temp)\n",
    "epott = np.empty_like(xx_temp)\n",
    "\n",
    "for i in np.arange(0, np.shape(xx_temp)[0], 1):\n",
    "    for j in np.arange(0, np.shape(xx_temp)[1], 1):\n",
    "        Twb[i][j], Teq[i][j], epott[i][j] = WetBulb(xx_temp[i][j], atm_sl_p[i][j], yy_rh[i][j], HumidityMode = 0)"
   ]
  },
  {
   "cell_type": "code",
   "execution_count": 13,
   "metadata": {},
   "outputs": [],
   "source": [
    "#----- HS: create the outline of a Pandas DataFrame, where the index is values of relative humidities and each\n",
    "#----- column is a different temperature\n",
    "pdWBT = pd.DataFrame(index = humidity, columns = temperature)\n",
    "\n",
    "#----- HS: Fill the DataFrame with the values of WBT we calculated\n",
    "pdWBT[:] = Twb\n",
    "\n",
    "#----- HS: Save the DataFrame as a .csv, keeping the column and row labels.\n",
    "# pdWBT.to_csv(workdir + 'codes/rhversionWBT_matrix_DJ.csv', header = True, index = True)"
   ]
  },
  {
   "cell_type": "code",
   "execution_count": 14,
   "metadata": {},
   "outputs": [
    {
     "data": {
      "text/html": [
       "<div>\n",
       "<style scoped>\n",
       "    .dataframe tbody tr th:only-of-type {\n",
       "        vertical-align: middle;\n",
       "    }\n",
       "\n",
       "    .dataframe tbody tr th {\n",
       "        vertical-align: top;\n",
       "    }\n",
       "\n",
       "    .dataframe thead th {\n",
       "        text-align: right;\n",
       "    }\n",
       "</style>\n",
       "<table border=\"1\" class=\"dataframe\">\n",
       "  <thead>\n",
       "    <tr style=\"text-align: right;\">\n",
       "      <th></th>\n",
       "      <th>-50.0</th>\n",
       "      <th>-49.9</th>\n",
       "      <th>-49.8</th>\n",
       "      <th>-49.7</th>\n",
       "      <th>-49.6</th>\n",
       "      <th>-49.5</th>\n",
       "      <th>-49.4</th>\n",
       "      <th>-49.3</th>\n",
       "      <th>-49.2</th>\n",
       "      <th>-49.1</th>\n",
       "      <th>...</th>\n",
       "      <th>69.0</th>\n",
       "      <th>69.1</th>\n",
       "      <th>69.2</th>\n",
       "      <th>69.3</th>\n",
       "      <th>69.4</th>\n",
       "      <th>69.5</th>\n",
       "      <th>69.6</th>\n",
       "      <th>69.7</th>\n",
       "      <th>69.8</th>\n",
       "      <th>69.9</th>\n",
       "    </tr>\n",
       "  </thead>\n",
       "  <tbody>\n",
       "    <tr>\n",
       "      <th>0.000</th>\n",
       "      <td>-50.11</td>\n",
       "      <td>-50.01</td>\n",
       "      <td>-49.91</td>\n",
       "      <td>-49.81</td>\n",
       "      <td>-49.71</td>\n",
       "      <td>-49.61</td>\n",
       "      <td>-49.51</td>\n",
       "      <td>-49.41</td>\n",
       "      <td>-49.32</td>\n",
       "      <td>-49.22</td>\n",
       "      <td>...</td>\n",
       "      <td>21.79</td>\n",
       "      <td>21.81</td>\n",
       "      <td>21.84</td>\n",
       "      <td>21.86</td>\n",
       "      <td>21.89</td>\n",
       "      <td>21.91</td>\n",
       "      <td>21.93</td>\n",
       "      <td>21.96</td>\n",
       "      <td>21.98</td>\n",
       "      <td>22.0</td>\n",
       "    </tr>\n",
       "    <tr>\n",
       "      <th>0.005</th>\n",
       "      <td>-39.98</td>\n",
       "      <td>-39.87</td>\n",
       "      <td>-39.77</td>\n",
       "      <td>-39.67</td>\n",
       "      <td>-39.57</td>\n",
       "      <td>-39.46</td>\n",
       "      <td>-39.36</td>\n",
       "      <td>-39.26</td>\n",
       "      <td>-39.16</td>\n",
       "      <td>-39.05</td>\n",
       "      <td>...</td>\n",
       "      <td>25.71</td>\n",
       "      <td>25.73</td>\n",
       "      <td>25.76</td>\n",
       "      <td>25.78</td>\n",
       "      <td>25.8</td>\n",
       "      <td>25.82</td>\n",
       "      <td>25.84</td>\n",
       "      <td>25.86</td>\n",
       "      <td>25.88</td>\n",
       "      <td>25.9</td>\n",
       "    </tr>\n",
       "    <tr>\n",
       "      <th>0.010</th>\n",
       "      <td>-30.81</td>\n",
       "      <td>-30.71</td>\n",
       "      <td>-30.61</td>\n",
       "      <td>-30.5</td>\n",
       "      <td>-30.4</td>\n",
       "      <td>-30.29</td>\n",
       "      <td>-30.19</td>\n",
       "      <td>-30.09</td>\n",
       "      <td>-29.98</td>\n",
       "      <td>-29.88</td>\n",
       "      <td>...</td>\n",
       "      <td>28.83</td>\n",
       "      <td>28.85</td>\n",
       "      <td>28.87</td>\n",
       "      <td>28.88</td>\n",
       "      <td>28.9</td>\n",
       "      <td>28.92</td>\n",
       "      <td>28.94</td>\n",
       "      <td>28.96</td>\n",
       "      <td>28.98</td>\n",
       "      <td>29.0</td>\n",
       "    </tr>\n",
       "    <tr>\n",
       "      <th>0.015</th>\n",
       "      <td>-22.19</td>\n",
       "      <td>-22.08</td>\n",
       "      <td>-21.98</td>\n",
       "      <td>-21.88</td>\n",
       "      <td>-21.78</td>\n",
       "      <td>-21.68</td>\n",
       "      <td>-21.57</td>\n",
       "      <td>-21.47</td>\n",
       "      <td>-21.37</td>\n",
       "      <td>-21.27</td>\n",
       "      <td>...</td>\n",
       "      <td>31.5</td>\n",
       "      <td>31.51</td>\n",
       "      <td>31.53</td>\n",
       "      <td>31.55</td>\n",
       "      <td>31.57</td>\n",
       "      <td>31.58</td>\n",
       "      <td>31.6</td>\n",
       "      <td>31.62</td>\n",
       "      <td>31.63</td>\n",
       "      <td>31.65</td>\n",
       "    </tr>\n",
       "  </tbody>\n",
       "</table>\n",
       "<p>4 rows × 1200 columns</p>\n",
       "</div>"
      ],
      "text/plain": [
       "       -50.0  -49.9  -49.8  -49.7  -49.6  -49.5  -49.4  -49.3  -49.2  -49.1  \\\n",
       "0.000 -50.11 -50.01 -49.91 -49.81 -49.71 -49.61 -49.51 -49.41 -49.32 -49.22   \n",
       "0.005 -39.98 -39.87 -39.77 -39.67 -39.57 -39.46 -39.36 -39.26 -39.16 -39.05   \n",
       "0.010 -30.81 -30.71 -30.61  -30.5  -30.4 -30.29 -30.19 -30.09 -29.98 -29.88   \n",
       "0.015 -22.19 -22.08 -21.98 -21.88 -21.78 -21.68 -21.57 -21.47 -21.37 -21.27   \n",
       "\n",
       "       ...   69.0   69.1   69.2   69.3   69.4   69.5   69.6   69.7   69.8  \\\n",
       "0.000  ...  21.79  21.81  21.84  21.86  21.89  21.91  21.93  21.96  21.98   \n",
       "0.005  ...  25.71  25.73  25.76  25.78   25.8  25.82  25.84  25.86  25.88   \n",
       "0.010  ...  28.83  28.85  28.87  28.88   28.9  28.92  28.94  28.96  28.98   \n",
       "0.015  ...   31.5  31.51  31.53  31.55  31.57  31.58   31.6  31.62  31.63   \n",
       "\n",
       "        69.9  \n",
       "0.000   22.0  \n",
       "0.005   25.9  \n",
       "0.010   29.0  \n",
       "0.015  31.65  \n",
       "\n",
       "[4 rows x 1200 columns]"
      ]
     },
     "execution_count": 14,
     "metadata": {},
     "output_type": "execute_result"
    }
   ],
   "source": [
    "# og_pdWBT = pd.read_csv(workdir + 'codes/rhversion_WBT_matrix.csv', index_col=0, header=0)\n",
    "# og_pdWBT\n",
    "pdWBT"
   ]
  },
  {
   "cell_type": "code",
   "execution_count": 15,
   "metadata": {},
   "outputs": [
    {
     "ename": "NameError",
     "evalue": "name 'og_pdWBT' is not defined",
     "output_type": "error",
     "traceback": [
      "\u001b[1;31m---------------------------------------------------------------------------\u001b[0m",
      "\u001b[1;31mNameError\u001b[0m                                 Traceback (most recent call last)",
      "Cell \u001b[1;32mIn[15], line 1\u001b[0m\n\u001b[1;32m----> 1\u001b[0m test \u001b[38;5;241m=\u001b[39m \u001b[43mog_pdWBT\u001b[49m \u001b[38;5;241m-\u001b[39m pdWBT\n\u001b[0;32m      2\u001b[0m test\n",
      "\u001b[1;31mNameError\u001b[0m: name 'og_pdWBT' is not defined"
     ]
    }
   ],
   "source": [
    "test = og_pdWBT - pdWBT\n",
    "test"
   ]
  },
  {
   "cell_type": "code",
   "execution_count": 112,
   "metadata": {},
   "outputs": [
    {
     "data": {
      "image/png": "[encoded data removed]",
      "text/plain": [
       "<Figure size 640x480 with 2 Axes>"
      ]
     },
     "metadata": {},
     "output_type": "display_data"
    }
   ],
   "source": [
    "fig, ax = plt.subplots()\n",
    "orig_cmap = matplotlib.cm.coolwarm\n",
    "# shiftedColorMap(orig_cmap, midpoint = .75, stop = 1, name = 'shiftedcmap')\n",
    "CS = ax.contourf(xx_temp, yy_rh, test, levels = np.arange(-1.25,1.5,0.25), extend = 'both', \n",
    "                 cmap = 'bwr')\n",
    "# ax.clabel(CS, inline=True, fontsize=10)\n",
    "ax.set_title('Metpy - DaviesJones wbt')\n",
    "plt.ylabel(\"rh\")\n",
    "plt.xlabel(\"temp\")\n",
    "cbar = fig.colorbar(CS)\n",
    "# cb_ymin = -1\n",
    "# cb_ymax = 1\n",
    "# cb_xmin, cb_xmax = cbar.ax.get_xlim()\n",
    "# cbar.outline.set_visible(False)  # hide the surrounding spines, which are too large after set_ylim\n",
    "# cbar.ax.add_patch(plt.Rectangle((cb_xmin, cb_ymin), cb_xmax - cb_xmin, cb_ymax - cb_ymin,\n",
    "#                                 fc='none', ec='black', clip_on=False))\n",
    "# cbar.ax.set_ylim(cb_ymin, cb_ymax)"
   ]
  },
  {
   "cell_type": "code",
   "execution_count": null,
   "metadata": {},
   "outputs": [],
   "source": []
  }
 ],
 "metadata": {
  "kernelspec": {
   "display_name": "Python 3",
   "language": "python",
   "name": "python3"
  },
  "language_info": {
   "codemirror_mode": {
    "name": "ipython",
    "version": 3
   },
   "file_extension": ".py",
   "mimetype": "text/x-python",
   "name": "python",
   "nbconvert_exporter": "python",
   "pygments_lexer": "ipython3",
   "version": "3.8.8"
  }
 },
 "nbformat": 4,
 "nbformat_minor": 4
}
